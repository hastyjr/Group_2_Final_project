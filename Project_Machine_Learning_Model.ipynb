{
  "nbformat": 4,
  "nbformat_minor": 0,
  "metadata": {
    "colab": {
      "provenance": [],
      "collapsed_sections": [],
      "authorship_tag": "ABX9TyOb0MWirPh/5ktNlSFWD44E",
      "include_colab_link": true
    },
    "kernelspec": {
      "name": "python3",
      "display_name": "Python 3"
    },
    "language_info": {
      "name": "python"
    }
  },
  "cells": [
    {
      "cell_type": "markdown",
      "metadata": {
        "id": "view-in-github",
        "colab_type": "text"
      },
      "source": [
        "<a href=\"https://colab.research.google.com/github/hastyjr/Group_2_Final_project/blob/mschimmy/Project_Machine_Learning_Model.ipynb\" target=\"_parent\"><img src=\"https://colab.research.google.com/assets/colab-badge.svg\" alt=\"Open In Colab\"/></a>"
      ]
    },
    {
      "cell_type": "code",
      "execution_count": null,
      "metadata": {
        "id": "OnqqlS3yTlfA"
      },
      "outputs": [],
      "source": []
    },
    {
      "cell_type": "markdown",
      "source": [
        "# Machine Learning Model Mockup"
      ],
      "metadata": {
        "id": "Ss-_ZUJETnZj"
      }
    },
    {
      "cell_type": "markdown",
      "source": [
        "## Setup and Imports"
      ],
      "metadata": {
        "id": "c5VpDA7DTvjr"
      }
    },
    {
      "cell_type": "code",
      "source": [
        "# Import Dependencies\n",
        "import csv\n",
        "import pandas as pandas\n",
        "from sklearn.model_selection import train_test_split\n",
        "from sklearn.preprocessing import StandardScaler, OneHotEncoder\n",
        "from sklearn.linear_model import LogisticRegression\n",
        "from sklearn.ensemble import RandomForestClassifier\n",
        "from sklearn.svm import SVC\n",
        "from sklearn.metrics import accuracy_score, confusion_matrix, classification_report\n",
        "import matplotlib.pyplot as plt\n",
        "import tensorflow as tf"
      ],
      "metadata": {
        "id": "EK-yY2NXTum1"
      },
      "execution_count": null,
      "outputs": []
    },
    {
      "cell_type": "code",
      "source": [
        "# Load in the data set from local Resources folder\n",
        "crime_df = pd.read_csv(Resources/Crime_Reports.csv)\n",
        "crime_df.head()"
      ],
      "metadata": {
        "id": "kRyDk9XeT4cD"
      },
      "execution_count": null,
      "outputs": []
    },
    {
      "cell_type": "code",
      "source": [
        "# Print list of columns \n",
        "crime_df.columns"
      ],
      "metadata": {
        "id": "6mri2BXhT53d"
      },
      "execution_count": null,
      "outputs": []
    },
    {
      "cell_type": "code",
      "source": [
        "# Print column data types\n",
        "crime_df.dtypes"
      ],
      "metadata": {
        "id": "X-PSRb3zT7xv"
      },
      "execution_count": null,
      "outputs": []
    },
    {
      "cell_type": "code",
      "source": [
        "# Find null values\n",
        "for column in crime_df.columns:\n",
        "  print(f\"Column {column} has {crime_df[column].isnull().sum()} null values\")"
      ],
      "metadata": {
        "id": "0YKLdP9-gV--"
      },
      "execution_count": null,
      "outputs": []
    },
    {
      "cell_type": "code",
      "source": [
        "# Drop null rows\n",
        "crime_df = crime_df.dropna()"
      ],
      "metadata": {
        "id": "dB1PqnJJgie_"
      },
      "execution_count": null,
      "outputs": []
    },
    {
      "cell_type": "code",
      "source": [
        "# Check for duplicates\n",
        "print(f\"Duplicate entries: {crime_df.duplicated().sum()}\")"
      ],
      "metadata": {
        "id": "Ew-_uJc_gnHn"
      },
      "execution_count": null,
      "outputs": []
    },
    {
      "cell_type": "code",
      "source": [
        "# Generate the categorical variable list\n",
        "crime_cat = crime_df.dtypes[crime_df == \"object\"].index.tolist()"
      ],
      "metadata": {
        "id": "c999px4MT9Ch"
      },
      "execution_count": null,
      "outputs": []
    },
    {
      "cell_type": "code",
      "source": [
        "# Check the number of unique values in each column\n",
        "crime_df[crime_df].nunique()"
      ],
      "metadata": {
        "id": "xtJDL2hxT_or"
      },
      "execution_count": null,
      "outputs": []
    },
    {
      "cell_type": "code",
      "source": [
        "# Print out the County value counts\n",
        "county_counts = crime_df.County.value_counts()\n",
        "county_counts\n",
        "\n",
        "# Visualize value counts\n",
        "country_counts.plot.density()"
      ],
      "metadata": {
        "id": "Tzj7N6siW4u0"
      },
      "execution_count": null,
      "outputs": []
    },
    {
      "cell_type": "code",
      "source": [
        "# Save and export the cleaned data as csv file\n",
        "file_path = \"Resources/crime_data_cleaned.csv\"\n",
        "crime_df.to_csv(file_path, index=False)"
      ],
      "metadata": {
        "id": "ehQTZrjpgz-B"
      },
      "execution_count": null,
      "outputs": []
    },
    {
      "cell_type": "markdown",
      "source": [
        "## Preprocessing"
      ],
      "metadata": {
        "id": "ib-KYc6DUBUP"
      }
    },
    {
      "cell_type": "code",
      "source": [
        "# Create a OneHotEncoder instance\n",
        "enc = OneHotEncoder(sparse=False)\n",
        "\n",
        "# Fit and transfor the OneHotEncoder using the categorical variables list\n",
        "encode_df = pd.DataFrame(enc.fit_transform(crime_df[crime_cat]))\n",
        "\n",
        "# Add the encoded variable names to the DataFrame\n",
        "encode_df.columns = enc.get_feature_names(crime_cat)"
      ],
      "metadata": {
        "id": "r4uOTJ_JUDgv"
      },
      "execution_count": null,
      "outputs": []
    },
    {
      "cell_type": "code",
      "source": [
        "# Merge one-hot encoded features and drop originals\n",
        "crime_df = crime_df.merge(encode_df, left_inside=True, right_index=True)\n",
        "crime_df = crime_df.drop(crime_cat, 1)\n",
        "crime_df.head()"
      ],
      "metadata": {
        "id": "2mJF0eVrUP4P"
      },
      "execution_count": null,
      "outputs": []
    },
    {
      "cell_type": "code",
      "source": [
        "# Split the preprocessed data into the features and target arrays\n",
        "y = crime_df[\"<TARGET VARIABLE NAME>\"].values\n",
        "X = crime_df.drop([\"<TARGET VARIABLE NAME>\"], 1).value\n",
        "\n",
        "# Split the preprocessed data into training and testing datasets\n",
        "X_train, X_test, y_train, y_test = train_test_split(X, y, random_state=1, stratify=y)"
      ],
      "metadata": {
        "id": "D36qWZsRUSGw"
      },
      "execution_count": null,
      "outputs": []
    },
    {
      "cell_type": "code",
      "source": [
        "# Create a StandardScaler instance\n",
        "scaler = StandardScaler()\n",
        "\n",
        "# Fit the StandardScaler\n",
        "X_scaler = scaler.fit(X_train)\n",
        "\n",
        "# Scale the data\n",
        "X_train_scaled = X_scaler.transform(X_train)\n",
        "X_test_scaled = X_scaler.transform(X_test)"
      ],
      "metadata": {
        "id": "GXKCEo-iUVlG"
      },
      "execution_count": null,
      "outputs": []
    },
    {
      "cell_type": "markdown",
      "source": [
        "## Logistic Regression Model"
      ],
      "metadata": {
        "id": "bm13RsHJWVmt"
      }
    },
    {
      "cell_type": "code",
      "source": [
        "# Define the logistic regression model\n",
        "log_classifier = LogisticRegression(solver=\"lbfgs\", max_iter=200, random_state=1)"
      ],
      "metadata": {
        "id": "lJca4uk4WZXt"
      },
      "execution_count": null,
      "outputs": []
    },
    {
      "cell_type": "code",
      "source": [
        "# Train the model\n",
        "log_classifier.fit(X_train, y_train)"
      ],
      "metadata": {
        "id": "fQijxwMYWm_X"
      },
      "execution_count": null,
      "outputs": []
    },
    {
      "cell_type": "code",
      "source": [
        "# Evaluate the model\n",
        "# Calculate the accuracy score\n",
        "y_pred = log_classifier.predict(X_test)\n",
        "results = pd.DataFrame({\"Prediction\": y_pred, \"Actual\": y_test}).reset_index(drop=True)\n",
        "results.head()\n",
        "print(f\"Logistic regression model accuracy: {accuracy_score(y_test, y_pred):.3f}\")\n",
        "\n",
        "# Generate confusion matrix\n",
        "cm = confusion_matrix(y_test, y_pred)\n",
        "cm_df = pd.DataFrame(cm, index=[\"Actual 0\", \"Actual 1\"], columns=[\"Predicted 0\", \"Predicted 1\"])\n",
        "print(f\"Confusion Matrix\")\n",
        "cm_df\n",
        "\n",
        "# Generate classification report\n",
        "print(\"Classification Report\")\n",
        "print(classification_report(y_test, y_pred))"
      ],
      "metadata": {
        "id": "nbhctaHxWgCl"
      },
      "execution_count": null,
      "outputs": []
    },
    {
      "cell_type": "code",
      "source": [
        "# Visualize the predictions\n",
        "plt.scatter(X,y)\n",
        "plt.plot(X, y_pred, color=\"red\")\n",
        "plt.show()"
      ],
      "metadata": {
        "id": "O70OlbW5dLkC"
      },
      "execution_count": null,
      "outputs": []
    },
    {
      "cell_type": "code",
      "source": [
        "# Print the slope and the y-intercept\n",
        "print(model.)"
      ],
      "metadata": {
        "id": "LBKnyANyddjt"
      },
      "execution_count": null,
      "outputs": []
    },
    {
      "cell_type": "markdown",
      "source": [
        "## Random Forest Model"
      ],
      "metadata": {
        "id": "pNE6NC8TYg-f"
      }
    },
    {
      "cell_type": "code",
      "source": [
        "# Create a Random Forest Classifier\n",
        "rf_model = RandomForestClassifier(n_estimators=128, random_state=1)"
      ],
      "metadata": {
        "id": "9wJjsNDZYjU-"
      },
      "execution_count": null,
      "outputs": []
    },
    {
      "cell_type": "code",
      "source": [
        "# Train the model\n",
        "rf_model = rf_model.fit(X_train_scaled, y_train)"
      ],
      "metadata": {
        "id": "NHmwUVxQYsv9"
      },
      "execution_count": null,
      "outputs": []
    },
    {
      "cell_type": "code",
      "source": [
        "# Evaluate the model\n",
        "# Calculate the accuracy score\n",
        "y_pred = rf_model.predict(X_test_scaled)\n",
        "results = pd.DataFrame({\"Prediction\": y_pred, \"Actual\": y_test}).reset_index(drop=True)\n",
        "results.head()\n",
        "print(f\"Random forest predictive accuracy: {accuracy_score(y_test, y_pred):.3f}\")\n",
        "\n",
        "# Generate confusion matrix\n",
        "cm = confusion_matrix(y_test, y_pred)\n",
        "cm_df = pd.DataFrame(cm, index=[\"Actual 0\", \"Actual 1\"], columns=[\"Predicted 0\", \"Predicted 1\"])\n",
        "print(f\"Confusion Matrix\")\n",
        "cm_df\n",
        "\n",
        "# Generate classification report\n",
        "print(\"Classification Report\")\n",
        "print(classification_report(y_test, y_pred))"
      ],
      "metadata": {
        "id": "uyVOUIsqYxVL"
      },
      "execution_count": null,
      "outputs": []
    },
    {
      "cell_type": "code",
      "source": [
        "# Calculate feature importance in the Random Forest Model\n",
        "importances = rf_model.feature_importance_\n",
        "importances"
      ],
      "metadata": {
        "id": "jJP4v6ICf1h2"
      },
      "execution_count": null,
      "outputs": []
    },
    {
      "cell_type": "code",
      "source": [
        "# Sort features by their importance\n",
        "sorted(zip(rf_model.features_importances_, X.columns), reverse=True)"
      ],
      "metadata": {
        "id": "7x2mjijTbAO9"
      },
      "execution_count": null,
      "outputs": []
    },
    {
      "cell_type": "markdown",
      "source": [
        "## Support Vector Machine"
      ],
      "metadata": {
        "id": "4Uof1pf5Z36n"
      }
    },
    {
      "cell_type": "code",
      "source": [
        "# Create the SVM model\n",
        "svm = SVC(kernel = \"linear\")"
      ],
      "metadata": {
        "id": "OZv-qtLUZ6Qe"
      },
      "execution_count": null,
      "outputs": []
    },
    {
      "cell_type": "code",
      "source": [
        "# Train the model\n",
        "svm.fit(X_train, y_train)"
      ],
      "metadata": {
        "id": "uLSdP81AZ_ju"
      },
      "execution_count": null,
      "outputs": []
    },
    {
      "cell_type": "code",
      "source": [
        "# Evaluate the model\n",
        "# Calculate the accuracy score\n",
        "y_pred = svm.predict(X_test_scaled)\n",
        "results = pd.DataFrame({\"Prediction\": y_pred, \"Actual\": y_test}).reset_index(drop=True)\n",
        "results.head()\n",
        "print(f\"SVM model accuracy: {accuracy_score(y_test, y_pred):.3f})\n",
        "\n",
        "# Generate confusion matrix\n",
        "cm = confusion_matrix(y_test, y_pred)\n",
        "cm_df = pd.DataFrame(cm, index=[\"Actual 0\", \"Actual 1\"], columns=[\"Predicted 0\", \"Predicted 1\"])\n",
        "print(f\"Confusion Matrix\")\n",
        "cm_df\n",
        "\n",
        "# Generate classification report\n",
        "print(\"Classification Report\")\n",
        "print(classification_report(y_test, y_pred))"
      ],
      "metadata": {
        "id": "kt1v_7X4aD7E"
      },
      "execution_count": null,
      "outputs": []
    },
    {
      "cell_type": "markdown",
      "source": [
        "## Deep Learning Model"
      ],
      "metadata": {
        "id": "ke2FRKagUYzI"
      }
    },
    {
      "cell_type": "code",
      "source": [
        "# Define the model\n",
        "number_input_features = len(X_train[0])\n",
        "hidden_nodes_layer1 = 6\n",
        "hidden_nodes_layer2 = 5\n",
        "\n",
        "nn = tf.keras.models.Sequential()\n",
        "\n",
        "# First hidden layer\n",
        "nn.add(tf.keras.layers.Dense(units=hidden_nodes_layer1, input_dim=number_input_features, activation=\"relu\"))\n",
        "\n",
        "# Second hidden layer\n",
        "nn.add(tf.keras.layers.Dense(units=hidden_nodes_layer2, activation=\"relu\"))\n",
        "\n",
        "# Output layer\n",
        "nn.add(tf.keras.layers.Dense(units=1, activation=\"sigmoid\"))\n",
        "\n",
        "# Check the strucutre of the model\n",
        "nn.summary()"
      ],
      "metadata": {
        "id": "yO1McHy0UbRy"
      },
      "execution_count": null,
      "outputs": []
    },
    {
      "cell_type": "code",
      "source": [
        "# Compile the model\n",
        "nn.compile(loss=\"binary_crossentropy\", optimizer=\"adam\", metrics=[\"accuracy\"])"
      ],
      "metadata": {
        "id": "qcUoPkV8Ue4K"
      },
      "execution_count": null,
      "outputs": []
    },
    {
      "cell_type": "code",
      "source": [
        "# Train the model\n",
        "fit_model = nn.fit(X_train, y_train, epochs=100)"
      ],
      "metadata": {
        "id": "cCwt94KYUhhZ"
      },
      "execution_count": null,
      "outputs": []
    },
    {
      "cell_type": "code",
      "source": [
        "# Evaluate the model using the test data\n",
        "model_loss, model_accuracy = nn.evaluate(X_test, y_test, verbose=2)\n",
        "print(f\"Deep Learning Model Loss: {model_loss}, Accuracy {model_accuracy}\")"
      ],
      "metadata": {
        "id": "zFj2AJnoUk6V"
      },
      "execution_count": null,
      "outputs": []
    }
  ]
}